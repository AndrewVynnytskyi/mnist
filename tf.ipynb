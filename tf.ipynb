{
 "cells": [
  {
   "cell_type": "markdown",
   "id": "d99b2e97a723709b",
   "metadata": {},
   "source": [
    "# Tensorflow"
   ]
  },
  {
   "cell_type": "code",
   "execution_count": 2,
   "id": "17ce8420d0f81c52",
   "metadata": {
    "ExecuteTime": {
     "end_time": "2025-08-30T15:45:37.130823Z",
     "start_time": "2025-08-30T15:45:37.128177Z"
    },
    "collapsed": true
   },
   "outputs": [
    {
     "name": "stdout",
     "output_type": "stream",
     "text": [
      "12.5.1\n"
     ]
    }
   ],
   "source": [
    "import tensorflow as tf\n",
    "\n",
    "print(tf.sysconfig.get_build_info()['cuda_version'])"
   ]
  },
  {
   "cell_type": "code",
   "execution_count": null,
   "id": "4767e76cb1976262",
   "metadata": {},
   "outputs": [],
   "source": [
    "\n"
   ]
  }
 ],
 "metadata": {
  "kernelspec": {
   "display_name": ".venv",
   "language": "python",
   "name": "python3"
  },
  "language_info": {
   "codemirror_mode": {
    "name": "ipython",
    "version": 3
   },
   "file_extension": ".py",
   "mimetype": "text/x-python",
   "name": "python",
   "nbconvert_exporter": "python",
   "pygments_lexer": "ipython3",
   "version": "3.12.3"
  }
 },
 "nbformat": 4,
 "nbformat_minor": 5
}
