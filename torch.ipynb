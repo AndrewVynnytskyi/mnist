{
 "cells": [
  {
   "cell_type": "markdown",
   "id": "8585a465724e55ed",
   "metadata": {},
   "source": [
    "# PyTorch Neural Net\n",
    "\n",
    "https://docs.pytorch.org/tutorials/\n",
    "https://www.geeksforgeeks.org/deep-learning/pytorch-learn-with-examples/\n",
    "https://huggingface.co/blog/dvgodoy/beginner-pytorch-tutorial\n",
    "\n",
    "https://huggingface.co/learn/llm-course\n",
    "https://roadmap.sh/machine-learning"
   ]
  },
  {
   "cell_type": "code",
   "id": "initial_id",
   "metadata": {
    "collapsed": true,
    "ExecuteTime": {
     "end_time": "2025-08-30T18:24:54.061467Z",
     "start_time": "2025-08-30T18:24:54.058792Z"
    }
   },
   "source": [
    "import torch\n",
    "import torch.nn as nn\n",
    "import torchvision\n",
    "import torchvision.transforms as transforms\n",
    "import seaborn as sns\n",
    "\n",
    "\n",
    "print(torch.version.cuda)\n",
    "device = torch.device(\"cuda\" if torch.cuda.is_available() else \"cpu\")"
   ],
   "outputs": [
    {
     "name": "stdout",
     "output_type": "stream",
     "text": [
      "12.8\n"
     ]
    }
   ],
   "execution_count": 4
  },
  {
   "cell_type": "code",
   "id": "7fb33f608a2ae37c",
   "metadata": {
    "ExecuteTime": {
     "end_time": "2025-08-30T18:24:03.340111Z",
     "start_time": "2025-08-30T18:24:03.338169Z"
    }
   },
   "source": "",
   "outputs": [],
   "execution_count": null
  }
 ],
 "metadata": {
  "kernelspec": {
   "display_name": ".venv",
   "language": "python",
   "name": "python3"
  },
  "language_info": {
   "codemirror_mode": {
    "name": "ipython",
    "version": 3
   },
   "file_extension": ".py",
   "mimetype": "text/x-python",
   "name": "python",
   "nbconvert_exporter": "python",
   "pygments_lexer": "ipython3",
   "version": "3.12.3"
  }
 },
 "nbformat": 4,
 "nbformat_minor": 5
}
