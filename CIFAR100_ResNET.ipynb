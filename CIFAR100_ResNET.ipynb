{
 "cells": [
  {
   "cell_type": "code",
   "execution_count": null,
   "id": "initial_id",
   "metadata": {
    "ExecuteTime": {
     "end_time": "2025-09-19T18:44:48.273546Z",
     "start_time": "2025-09-19T18:44:45.104573Z"
    }
   },
   "outputs": [
    {
     "name": "stdout",
     "output_type": "stream",
     "text": [
      "GPU count: 1, CUDA version: 12.8, cuDNN version: 91002\n",
      "Using GPU: cuda\n"
     ]
    }
   ],
   "source": [
    "import copy\n",
    "\n",
    "import torch\n",
    "import torch.nn as nn\n",
    "import torchvision\n",
    "import torchvision.transforms as transforms\n",
    "import torchvision.models as models\n",
    "import matplotlib.pyplot as plt\n",
    "\n",
    "\n",
    "if torch.backends.mps.is_available():\n",
    "    device = torch.device(\"mps\")   # GPU на Mac (Apple Silicon або AMD)\n",
    "elif torch.cuda.is_available():\n",
    "    device = torch.device(\"cuda\")  # NVIDIA GPU (не на Mac)\n",
    "    print(f\"GPU count: {torch.cuda.device_count()}\"\n",
    "          f\", CUDA version: {torch.version.cuda}\"\n",
    "          f\", cuDNN version: {torch.backends.cudnn.version()}\")\n",
    "else:\n",
    "    device = torch.device(\"cpu\")   # fallback\n",
    "\n",
    "print(\"Using GPU:\", device)"
   ]
  },
  {
   "cell_type": "markdown",
   "id": "dcf8fdcf",
   "metadata": {},
   "source": [
    "## Hyperparameters"
   ]
  },
  {
   "cell_type": "code",
   "execution_count": null,
   "id": "7f3f266c2ecf502b",
   "metadata": {
    "ExecuteTime": {
     "end_time": "2025-09-19T18:44:48.290177Z",
     "start_time": "2025-09-19T18:44:48.287057Z"
    }
   },
   "outputs": [],
   "source": [
    "batch_size=32\n",
    "num_epochs = 20\n",
    "features = 100\n",
    "\n",
    "patience = 5\n",
    "counter = 0\n",
    "\n",
    "lr=1e-3\n",
    "weight_decay=1e-4\n",
    "\n",
    "PATH='./CIFAR100_ResNET.pth'\n",
    "\n",
    "num_workers = 8 if device.type == \"cuda\" else 0"
   ]
  },
  {
   "cell_type": "code",
   "execution_count": null,
   "id": "3c749b8cfd2f39eb",
   "metadata": {
    "ExecuteTime": {
     "end_time": "2025-09-19T18:44:50.104013Z",
     "start_time": "2025-09-19T18:44:48.299342Z"
    }
   },
   "outputs": [],
   "source": [
    "transform = transforms.Compose([transforms.ToTensor(),\n",
    "                                transforms.RandomHorizontalFlip(),\n",
    "                                transforms.RandomCrop(32, padding=4),\n",
    "                                transforms.ColorJitter(0.2, 0.2, 0.2, 0.1),\n",
    "                                transforms.Normalize(mean=[0.485, 0.456, 0.406], std=[0.229, 0.224, 0.225])])\n",
    "\n",
    "transform_test = transforms.Compose([transforms.ToTensor(),\n",
    "                                transforms.Normalize(mean=[0.485, 0.456, 0.406], std=[0.229, 0.224, 0.225])])\n",
    "\n",
    "train_dataset = torchvision.datasets.CIFAR100(root='./cifar100',\n",
    "                                           download=True,\n",
    "                                           transform=transform,\n",
    "                                           train=True)\n",
    "\n",
    "test_dataset = torchvision.datasets.CIFAR100(root='./cifar100',\n",
    "                                             download=True,\n",
    "                                             transform=transform_test,\n",
    "                                             train=False)"
   ]
  },
  {
   "cell_type": "code",
   "execution_count": null,
   "id": "2171958efde605e9",
   "metadata": {
    "ExecuteTime": {
     "end_time": "2025-09-19T18:44:52.387541Z",
     "start_time": "2025-09-19T18:44:52.383547Z"
    }
   },
   "outputs": [],
   "source": [
    "train_loader = torch.utils.data.DataLoader(train_dataset,\n",
    "                                           batch_size=batch_size,\n",
    "                                           shuffle=True,\n",
    "                                           num_workers=num_workers)\n",
    "\n",
    "test_loader = torch.utils.data.DataLoader(test_dataset,\n",
    "                                          batch_size=batch_size,\n",
    "                                          num_workers=num_workers,\n",
    "                                          shuffle=True)"
   ]
  },
  {
   "cell_type": "code",
   "execution_count": null,
   "id": "aa81e678ebaa4caa",
   "metadata": {
    "ExecuteTime": {
     "end_time": "2025-09-19T18:44:54.599161Z",
     "start_time": "2025-09-19T18:44:54.232963Z"
    }
   },
   "outputs": [],
   "source": [
    "model = models.resnet50(weights=models.ResNet50_Weights.DEFAULT)\n",
    "model.fc = nn.Linear(model.fc.in_features, features) # fc - fully connected layer (last layer)\n",
    "model = model.to(device)\n",
    "\n",
    "for params in model.parameters():\n",
    "    params.requires_grad = False\n",
    "model.fc = model.fc.requires_grad_(True)"
   ]
  },
  {
   "cell_type": "code",
   "execution_count": 22,
   "id": "e3771e4c8646d146",
   "metadata": {
    "ExecuteTime": {
     "end_time": "2025-09-19T18:46:45.237072Z",
     "start_time": "2025-09-19T18:46:45.231567Z"
    }
   },
   "outputs": [],
   "source": [
    "def run_one_epoch(model_f, train_loader_f, device_f, criterion_f, optimizer_f):\n",
    "    \"\"\"\n",
    "    Run one epoch of training\n",
    "    \n",
    "    Args:\n",
    "        model_f: the model to train\n",
    "        train_loader_f: DataLoader for training data\n",
    "        device_f: device to run the training on (CPU or GPU)\n",
    "        criterion_f: loss function\n",
    "        optimizer_f: optimizer for updating model parameters\n",
    "    Returns:\n",
    "        Tuple of (average loss, accuracy) for the epoch\n",
    "    \"\"\"\n",
    "\n",
    "    model_f.train()\n",
    "    running_loss, correct = 0.0, 0\n",
    "    for images_f, labels_f in train_loader_f:\n",
    "        # Load to GPU/NPU/CPU\n",
    "        images_f, labels_f = images_f.to(device_f), labels_f.to(device_f)\n",
    "\n",
    "        outputs_f = model_f(images_f)\n",
    "\n",
    "        l = criterion_f(outputs_f, labels_f)\n",
    "        l.backward()\n",
    "\n",
    "        optimizer_f.step()\n",
    "        optimizer_f.zero_grad()\n",
    "        running_loss += l.item()\n",
    "\n",
    "        # Calculate accuracy of model outputs\n",
    "        correct += (outputs_f.argmax(1) == labels_f).sum().item()\n",
    "\n",
    "    return (\n",
    "        running_loss / len(train_loader_f),     # average loss\n",
    "        correct / len(train_loader_f.dataset))  # accuracy"
   ]
  },
  {
   "cell_type": "code",
   "execution_count": 23,
   "id": "a6f84a9483784a2b",
   "metadata": {
    "ExecuteTime": {
     "end_time": "2025-09-19T19:17:24.124495Z",
     "start_time": "2025-09-19T18:46:47.185831Z"
    }
   },
   "outputs": [
    {
     "name": "stdout",
     "output_type": "stream",
     "text": [
      "Epoch [1/20] Train Loss: 4.1237, Train Acc: 0.1238 \n",
      "Epoch [2/20] Train Loss: 3.8758, Train Acc: 0.1643 \n",
      "Epoch [3/20] Train Loss: 3.8239, Train Acc: 0.1727 \n",
      "Epoch [4/20] Train Loss: 3.8137, Train Acc: 0.1792 \n",
      "Epoch [5/20] Train Loss: 3.7926, Train Acc: 0.1792 \n",
      "Epoch [6/20] Train Loss: 3.7989, Train Acc: 0.1807 \n",
      "Epoch [7/20] Train Loss: 3.7716, Train Acc: 0.1824 \n",
      "Epoch [8/20] Train Loss: 3.7755, Train Acc: 0.1853 \n",
      "Epoch [9/20] Train Loss: 3.7904, Train Acc: 0.1823 \n",
      "Epoch [10/20] Train Loss: 3.7919, Train Acc: 0.1875 \n",
      "Epoch [11/20] Train Loss: 3.7890, Train Acc: 0.1837 \n",
      "Epoch [12/20] Train Loss: 3.7816, Train Acc: 0.1847 \n",
      "Epoch [13/20] Train Loss: 3.8088, Train Acc: 0.1817 \n",
      "Early stop triggered\n"
     ]
    }
   ],
   "source": [
    "criterion = nn.CrossEntropyLoss()\n",
    "optimizer = torch.optim.AdamW(model.parameters(), lr=lr, weight_decay=weight_decay)\n",
    "\n",
    "best_train_loss = float('inf')\n",
    "best_model_wts = copy.deepcopy(model.state_dict())\n",
    "\n",
    "train_losses, train_accs = [], []\n",
    "\n",
    "for epoch in range(num_epochs):\n",
    "    training_loss, training_accuracy = run_one_epoch(\n",
    "        model, train_loader, \n",
    "        device, criterion, optimizer)\n",
    "\n",
    "    train_losses.append(training_loss)\n",
    "    train_accs.append(training_accuracy)\n",
    "\n",
    "    print(f\"Epoch [{epoch+1}/{num_epochs}] \"\n",
    "          f\"Train Loss: {training_loss:.4f}, \"\n",
    "          f\"Train Acc: {training_accuracy:.4f} \")\n",
    "\n",
    "    if training_loss < best_train_loss:\n",
    "        best_train_loss = training_loss\n",
    "        best_model_wts = copy.deepcopy(model.state_dict())\n",
    "        counter = 0\n",
    "    else:\n",
    "        counter += 1\n",
    "        if counter > patience:\n",
    "            print('Early stop triggered')\n",
    "            break"
   ]
  },
  {
   "cell_type": "code",
   "execution_count": 24,
   "id": "d92fcb537acd8b9e",
   "metadata": {
    "ExecuteTime": {
     "start_time": "2025-09-19T19:18:53.822403Z"
    },
    "jupyter": {
     "is_executing": true
    }
   },
   "outputs": [
    {
     "name": "stdout",
     "output_type": "stream",
     "text": [
      "Epoch [1/20] Train Loss: 3.2890, Train Acc: 0.2190 \n",
      "Epoch [2/20] Train Loss: 2.6757, Train Acc: 0.3274 \n",
      "Epoch [3/20] Train Loss: 2.4806, Train Acc: 0.3660 \n",
      "Epoch [4/20] Train Loss: 2.3449, Train Acc: 0.3903 \n",
      "Epoch [5/20] Train Loss: 2.2276, Train Acc: 0.4153 \n",
      "Epoch [6/20] Train Loss: 2.1432, Train Acc: 0.4340 \n",
      "Epoch [7/20] Train Loss: 2.0457, Train Acc: 0.4558 \n",
      "Epoch [8/20] Train Loss: 1.9727, Train Acc: 0.4699 \n",
      "Epoch [9/20] Train Loss: 1.9181, Train Acc: 0.4850 \n",
      "Epoch [10/20] Train Loss: 1.8649, Train Acc: 0.4979 \n",
      "Training finished\n"
     ]
    }
   ],
   "source": [
    "model.load_state_dict(best_model_wts)\n",
    "\n",
    "for params in model.parameters():\n",
    "    params.requires_grad = True\n",
    "\n",
    "fine_tune_epoch = 10\n",
    "for epoch in range(fine_tune_epoch):\n",
    "    training_loss, training_accuracy = run_one_epoch(\n",
    "        model, train_loader, device, \n",
    "        criterion, optimizer)\n",
    "    \n",
    "    print(f\"Epoch [{epoch+1}/{num_epochs}] \"\n",
    "          f\"Train Loss: {training_loss:.4f}, \"\n",
    "          f\"Train Acc: {training_accuracy:.4f} \")\n",
    "\n",
    "torch.save(model.state_dict(), PATH)\n",
    "print('Training finished')"
   ]
  },
  {
   "cell_type": "code",
   "execution_count": null,
   "id": "2e4d0f5818cf2c60",
   "metadata": {},
   "outputs": [
    {
     "name": "stdout",
     "output_type": "stream",
     "text": [
      "Accuracy of the network on the 10000 test image: 49.09%\n"
     ]
    }
   ],
   "source": [
    "load_model = models.resnet50()\n",
    "load_model.fc = nn.Linear(load_model.fc.in_features, features)\n",
    "load_model.load_state_dict(torch.load(PATH))\n",
    "load_model.eval()\n",
    "\n",
    "with torch.no_grad():\n",
    "    n_correct = 0\n",
    "    n_samples = len(test_loader.dataset)\n",
    "    for images, labels in test_loader:\n",
    "        images, labels = images.to(device), labels.to(device)\n",
    "        outputs = model(images)\n",
    "\n",
    "        _, predicted = torch.max(outputs, 1)\n",
    "        n_correct += (predicted == labels).sum().item()\n",
    "\n",
    "    acc = n_correct / n_samples\n",
    "    print(f'Accuracy of the network on the {n_samples} test image: {100*acc}%')"
   ]
  },
  {
   "cell_type": "code",
   "execution_count": 27,
   "id": "674d90629c2af4ab",
   "metadata": {},
   "outputs": [
    {
     "data": {
      "image/png": "[encoded data removed]",
      "text/plain": [
       "<Figure size 1200x500 with 2 Axes>"
      ]
     },
     "metadata": {},
     "output_type": "display_data"
    }
   ],
   "source": [
    "plt.figure(figsize=(12,5))\n",
    "\n",
    "plt.subplot(1,2,1)\n",
    "plt.plot(train_losses, label='Train Loss')\n",
    "plt.xlabel('Epoch')\n",
    "plt.ylabel('Loss')\n",
    "plt.title('Loss Curve (Frozen + Fine-tune)')\n",
    "plt.legend()\n",
    "\n",
    "plt.subplot(1,2,2)\n",
    "plt.plot(train_accs, label='Train Acc')\n",
    "plt.xlabel('Epoch')\n",
    "plt.ylabel('Accuracy')\n",
    "plt.title('Accuracy Curve (Frozen + Fine-tune)')\n",
    "plt.legend()\n",
    "\n",
    "plt.show()"
   ]
  }
 ],
 "metadata": {
  "kernelspec": {
   "display_name": ".venv",
   "language": "python",
   "name": "python3"
  },
  "language_info": {
   "codemirror_mode": {
    "name": "ipython",
    "version": 3
   },
   "file_extension": ".py",
   "mimetype": "text/x-python",
   "name": "python",
   "nbconvert_exporter": "python",
   "pygments_lexer": "ipython3",
   "version": "3.12.3"
  }
 },
 "nbformat": 4,
 "nbformat_minor": 5
}
