{
 "cells": [
  {
   "cell_type": "code",
   "id": "initial_id",
   "metadata": {
    "ExecuteTime": {
     "end_time": "2025-09-19T18:44:48.273546Z",
     "start_time": "2025-09-19T18:44:45.104573Z"
    }
   },
   "source": [
    "import copy\n",
    "\n",
    "import torch\n",
    "import torch.nn as nn\n",
    "import torchvision\n",
    "import torchvision.transforms as transforms\n",
    "import torchvision.models as models\n",
    "import matplotlib.pyplot as plt\n",
    "\n",
    "\n",
    "if torch.backends.mps.is_available():\n",
    "    device = torch.device(\"mps\")   # GPU на Mac (Apple Silicon або AMD)\n",
    "elif torch.cuda.is_available():\n",
    "    device = torch.device(\"cuda\")  # NVIDIA GPU (не на Mac)\n",
    "else:\n",
    "    device = torch.device(\"cpu\")   # fallback"
   ],
   "outputs": [],
   "execution_count": 1
  },
  {
   "metadata": {
    "ExecuteTime": {
     "end_time": "2025-09-19T18:44:48.290177Z",
     "start_time": "2025-09-19T18:44:48.287057Z"
    }
   },
   "cell_type": "code",
   "source": [
    "batch_size=32\n",
    "num_epochs = 20\n",
    "patience = 5\n",
    "counter = 0\n",
    "lr=1e-3\n",
    "weight_decay=1e-4\n",
    "PATH='./CIFAR100_ResNET.pth'"
   ],
   "id": "7f3f266c2ecf502b",
   "outputs": [],
   "execution_count": 2
  },
  {
   "metadata": {
    "ExecuteTime": {
     "end_time": "2025-09-19T18:44:50.104013Z",
     "start_time": "2025-09-19T18:44:48.299342Z"
    }
   },
   "cell_type": "code",
   "source": [
    "transform = transforms.Compose([transforms.ToTensor(),\n",
    "                                transforms.RandomHorizontalFlip(),\n",
    "                                transforms.RandomCrop(32, padding=4),\n",
    "                                transforms.ColorJitter(0.2, 0.2, 0.2, 0.1),\n",
    "                                transforms.Normalize(mean=[0.485, 0.456, 0.406], std=[0.229, 0.224, 0.225])])\n",
    "\n",
    "transform_test = transforms.Compose([transforms.ToTensor(),\n",
    "                                transforms.Normalize(mean=[0.485, 0.456, 0.406], std=[0.229, 0.224, 0.225])])\n",
    "\n",
    "train_dataset = torchvision.datasets.CIFAR100(root='./cifar100',\n",
    "                                           download=True,\n",
    "                                           transform=transform,\n",
    "                                           train=True)\n",
    "\n",
    "test_dataset = torchvision.datasets.CIFAR100(root='./cifar100',\n",
    "                                             download=True,\n",
    "                                             transform=transform_test,\n",
    "                                             train=False)"
   ],
   "id": "3c749b8cfd2f39eb",
   "outputs": [],
   "execution_count": 3
  },
  {
   "metadata": {
    "ExecuteTime": {
     "end_time": "2025-09-19T18:44:52.387541Z",
     "start_time": "2025-09-19T18:44:52.383547Z"
    }
   },
   "cell_type": "code",
   "source": [
    "train_loader = torch.utils.data.DataLoader(train_dataset,\n",
    "                                           batch_size=batch_size,\n",
    "                                           shuffle=True,\n",
    "                                           num_workers=8)\n",
    "\n",
    "test_loader = torch.utils.data.DataLoader(test_dataset,\n",
    "                                          batch_size=batch_size,\n",
    "                                          shuffle=True)"
   ],
   "id": "2171958efde605e9",
   "outputs": [],
   "execution_count": 4
  },
  {
   "metadata": {
    "ExecuteTime": {
     "end_time": "2025-09-19T18:44:54.599161Z",
     "start_time": "2025-09-19T18:44:54.232963Z"
    }
   },
   "cell_type": "code",
   "source": [
    "model = models.resnet50(weights=models.ResNet50_Weights.DEFAULT)\n",
    "model.fc = nn.Linear(model.fc.in_features, 100)\n",
    "model = model.to(device)\n",
    "\n",
    "for params in model.parameters():\n",
    "    params.requires_grad = False\n",
    "model.fc = model.fc.requires_grad_(True)"
   ],
   "id": "aa81e678ebaa4caa",
   "outputs": [],
   "execution_count": 5
  },
  {
   "metadata": {
    "ExecuteTime": {
     "end_time": "2025-09-19T18:46:45.237072Z",
     "start_time": "2025-09-19T18:46:45.231567Z"
    }
   },
   "cell_type": "code",
   "source": [
    "def run_one_epoch(model_f, train_loader_f, device_f, criterion_f, optimizer_f):\n",
    "    model_f.train()\n",
    "    running_loss, correct = 0.0, 0\n",
    "    for images_f, labels_f in train_loader_f:\n",
    "        images_f, labels_f = images_f.to(device_f), labels_f.to(device)\n",
    "\n",
    "        outputs_f = model(images_f)\n",
    "\n",
    "        l = criterion_f(outputs_f, labels_f)\n",
    "        l.backward()\n",
    "\n",
    "        optimizer_f.step()\n",
    "        optimizer_f.zero_grad()\n",
    "        running_loss += l.item()\n",
    "        correct += (outputs_f.argmax(1) == labels_f).sum().item()\n",
    "\n",
    "    return running_loss/len(train_loader_f), correct/len(train_loader_f.dataset)\n",
    "\n"
   ],
   "id": "e3771e4c8646d146",
   "outputs": [],
   "execution_count": 8
  },
  {
   "metadata": {
    "ExecuteTime": {
     "end_time": "2025-09-19T19:17:24.124495Z",
     "start_time": "2025-09-19T18:46:47.185831Z"
    }
   },
   "cell_type": "code",
   "source": [
    "\n",
    "criterion = nn.CrossEntropyLoss()\n",
    "optimizer = torch.optim.AdamW(model.parameters(), lr=lr, weight_decay=weight_decay)\n",
    "\n",
    "best_train_loss = float('inf')\n",
    "best_model_wts = copy.deepcopy(model.state_dict())\n",
    "\n",
    "train_losses, train_accs = [], []\n",
    "\n",
    "\n",
    "for epoch in range(num_epochs):\n",
    "    training_loss, training_accuracy = run_one_epoch(model, train_loader, device, criterion, optimizer)\n",
    "\n",
    "    train_losses.append(training_loss)\n",
    "    train_accs.append(training_accuracy)\n",
    "\n",
    "    print(f\"Epoch [{epoch+1}/{num_epochs}] \"\n",
    "          f\"Train Loss: {training_loss:.4f}, Train Acc: {training_accuracy:.4f} \")\n",
    "\n",
    "    if training_loss < best_train_loss:\n",
    "        best_train_loss = training_loss\n",
    "        best_model_wts = copy.deepcopy(model.state_dict())\n",
    "        counter = 0\n",
    "    else:\n",
    "        counter +=1\n",
    "        if counter > patience:\n",
    "            print('Early stop triggered')\n",
    "            break\n"
   ],
   "id": "a6f84a9483784a2b",
   "outputs": [
    {
     "name": "stdout",
     "output_type": "stream",
     "text": [
      "Epoch [1/20] Train Loss: 4.1243, Train Acc: 0.1251 \n",
      "Epoch [2/20] Train Loss: 3.8663, Train Acc: 0.1679 \n",
      "Epoch [3/20] Train Loss: 3.8183, Train Acc: 0.1735 \n",
      "Epoch [4/20] Train Loss: 3.8071, Train Acc: 0.1740 \n",
      "Epoch [5/20] Train Loss: 3.7751, Train Acc: 0.1801 \n",
      "Epoch [6/20] Train Loss: 3.7835, Train Acc: 0.1841 \n",
      "Epoch [7/20] Train Loss: 3.7996, Train Acc: 0.1828 \n",
      "Epoch [8/20] Train Loss: 3.7933, Train Acc: 0.1851 \n",
      "Epoch [9/20] Train Loss: 3.8012, Train Acc: 0.1814 \n",
      "Epoch [10/20] Train Loss: 3.7799, Train Acc: 0.1852 \n",
      "Epoch [11/20] Train Loss: 3.7817, Train Acc: 0.1874 \n",
      "Early stop triggered\n"
     ]
    }
   ],
   "execution_count": 9
  },
  {
   "metadata": {
    "jupyter": {
     "is_executing": true
    },
    "ExecuteTime": {
     "start_time": "2025-09-19T19:18:53.822403Z"
    }
   },
   "cell_type": "code",
   "source": [
    "\n",
    "model.load_state_dict(best_model_wts)\n",
    "\n",
    "for params in model.parameters():\n",
    "    params.requires_grad = True\n",
    "\n",
    "fine_tune_epoch = 10\n",
    "for epoch in range(fine_tune_epoch):\n",
    "    training_loss, training_accuracy = run_one_epoch(model, train_loader, device, criterion, optimizer)\n",
    "    print(f\"Epoch [{epoch+1}/{num_epochs}] \"\n",
    "          f\"Train Loss: {training_loss:.4f}, Train Acc: {training_accuracy:.4f} \")\n",
    "\n",
    "torch.save(model, PATH)\n",
    "print('Training finished')\n"
   ],
   "id": "d92fcb537acd8b9e",
   "outputs": [],
   "execution_count": null
  },
  {
   "metadata": {},
   "cell_type": "code",
   "outputs": [],
   "execution_count": null,
   "source": [
    "load_model = models.resnet50()\n",
    "load_model.load_state_dict(torch.load(PATH))\n",
    "load_model.eval()\n",
    "\n",
    "with torch.no_grad():\n",
    "    n_correct = 0\n",
    "    n_samples = len(test_loader.dataset)\n",
    "    for images, labels in test_loader:\n",
    "        images, labels = images.to(device), labels.to(device)\n",
    "        outputs = model(images)\n",
    "\n",
    "        _, predicted = torch.max(outputs, 1)\n",
    "        n_correct += (predicted == labels).sum().item()\n",
    "\n",
    "    acc = n_correct / n_samples\n",
    "    print(f'Accuracy of the network on the {n_samples} test image: {100*acc}%')\n"
   ],
   "id": "2e4d0f5818cf2c60"
  },
  {
   "metadata": {},
   "cell_type": "code",
   "outputs": [],
   "source": [
    "plt.figure(figsize=(12,5))\n",
    "\n",
    "plt.subplot(1,2,1)\n",
    "plt.plot(train_losses, label='Train Loss')\n",
    "plt.xlabel('Epoch')\n",
    "plt.ylabel('Loss')\n",
    "plt.title('Loss Curve (Frozen + Fine-tune)')\n",
    "plt.legend()\n",
    "\n",
    "plt.subplot(1,2,2)\n",
    "plt.plot(train_accs, label='Train Acc')\n",
    "plt.xlabel('Epoch')\n",
    "plt.ylabel('Accuracy')\n",
    "plt.title('Accuracy Curve (Frozen + Fine-tune)')\n",
    "plt.legend()\n",
    "\n",
    "plt.show()"
   ],
   "id": "674d90629c2af4ab",
   "execution_count": null
  }
 ],
 "metadata": {
  "kernelspec": {
   "display_name": "Python 3",
   "language": "python",
   "name": "python3"
  },
  "language_info": {
   "codemirror_mode": {
    "name": "ipython",
    "version": 2
   },
   "file_extension": ".py",
   "mimetype": "text/x-python",
   "name": "python",
   "nbconvert_exporter": "python",
   "pygments_lexer": "ipython2",
   "version": "2.7.6"
  }
 },
 "nbformat": 4,
 "nbformat_minor": 5
}
